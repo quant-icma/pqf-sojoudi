{
  "nbformat": 4,
  "nbformat_minor": 0,
  "metadata": {
    "kernelspec": {
      "display_name": "Python 3",
      "name": "python3"
    },
    "language_info": {
      "name": "python"
    },
    "colab": {
      "name": "a2.ipynb",
      "provenance": []
    }
  },
  "cells": [
    {
      "cell_type": "markdown",
      "metadata": {
        "id": "BvdeVKCvrWbo"
      },
      "source": [
        "# Assignment 2\n",
        "\n",
        "Complete the code snippets in a colab notebook. \n",
        "Download the notebook file and submit in Blackboard."
      ]
    },
    {
      "cell_type": "code",
      "metadata": {
        "id": "cFQYDjQArWbz"
      },
      "source": [
        "import numpy as np"
      ],
      "execution_count": 198,
      "outputs": []
    },
    {
      "cell_type": "code",
      "metadata": {
        "id": "zXI0l3c7rWb1"
      },
      "source": [
        "class Call:\n",
        "    \n",
        "    def __init__(self, strike):\n",
        "        self.strike = strike\n",
        "\n",
        "    def __call__(self, spot):\n",
        "        return np.maximum(spot - self.strike, 0.)"
      ],
      "execution_count": 199,
      "outputs": []
    },
    {
      "cell_type": "code",
      "metadata": {
        "id": "jk_iOcjkrWb1"
      },
      "source": [
        "class VanillaOption:\n",
        "    \n",
        "    def __init__(self, maturity, payoff):\n",
        "        self.maturity = maturity\n",
        "        self.payoff = payoff\n",
        "          "
      ],
      "execution_count": 200,
      "outputs": []
    },
    {
      "cell_type": "code",
      "metadata": {
        "id": "n1nzJsklrWb2"
      },
      "source": [
        "class BlackScholesProcess:\n",
        "    def __init__(self, spot, rate, vol):    \n",
        "        self.spot = spot\n",
        "        self.rate = rate\n",
        "        self.vol = vol\n",
        "                 \n",
        "    def evolve(self, time, norms):\n",
        "        W = np.sqrt(time) * norms\n",
        "        S_T = self.spot * np.exp((self.rate-0.5*self.vol**2)*time + self.vol*W)\n",
        "        return S_T\n",
        "\n",
        "  \n",
        "        "
      ],
      "execution_count": 201,
      "outputs": []
    },
    {
      "cell_type": "code",
      "metadata": {
        "id": "1o3PgRw-rWb3"
      },
      "source": [
        "class FixedRateYieldCurve:\n",
        "\n",
        "    def __init__(self, rate): \n",
        "        self.rate = rate\n",
        "\n",
        "    def discount(self, maturity ):\n",
        "        return np.exp (-1*self.rate * maturity)\n",
        "\n",
        "    "
      ],
      "execution_count": 202,
      "outputs": []
    },
    {
      "cell_type": "markdown",
      "metadata": {
        "id": "AdenD-83rWb3"
      },
      "source": [
        "Here is a function that can use your classes:"
      ]
    },
    {
      "cell_type": "code",
      "metadata": {
        "id": "M5E5Aib_rWb4"
      },
      "source": [
        "def mc_price_european(process, option, yield_curve, n_paths):\n",
        "    std_norms = np.random.normal(size=n_paths)\n",
        "    S_T = process.evolve(option.maturity, std_norms)\n",
        "    V_T = yield_curve.discount(option.maturity) * option.payoff(S_T)\n",
        "    V_0 = np.average(V_T)   \n",
        "\n",
        "    return V_0"
      ],
      "execution_count": 203,
      "outputs": []
    },
    {
      "cell_type": "markdown",
      "metadata": {
        "id": "3IFVaNiqrWb4"
      },
      "source": [
        "Some example inputs:"
      ]
    },
    {
      "cell_type": "code",
      "metadata": {
        "id": "b0hc9oj8rWb5"
      },
      "source": [
        "T = 5.\n",
        "S_0 = 100.\n",
        "vol = 0.2\n",
        "r = 0.02\n",
        "K = 100\n",
        "K2 = 120\n",
        "N = 10000"
      ],
      "execution_count": 204,
      "outputs": []
    },
    {
      "cell_type": "markdown",
      "metadata": {
        "id": "tV0ADR14rWb5"
      },
      "source": [
        "Let's instantiate objects from your classes:"
      ]
    },
    {
      "cell_type": "code",
      "metadata": {
        "id": "eQNAZGGlrWb6"
      },
      "source": [
        "yield_curve = FixedRateYieldCurve(r)\n",
        "rand_process = BlackScholesProcess(S_0, r, vol)\n",
        "call_payoff = Call(K)\n",
        "call_option = VanillaOption(T, call_payoff)"
      ],
      "execution_count": 205,
      "outputs": []
    },
    {
      "cell_type": "markdown",
      "metadata": {
        "id": "O1oBlJO9rWb6"
      },
      "source": [
        "and use them:"
      ]
    },
    {
      "cell_type": "code",
      "metadata": {
        "id": "3s4_Wtn7rWb6",
        "outputId": "1b8509cb-e614-413c-fcbf-51ff8e1f3a11",
        "colab": {
          "base_uri": "https://localhost:8080/"
        }
      },
      "source": [
        "c = mc_price_european(rand_process, call_option, yield_curve, N)\n",
        "print(c)"
      ],
      "execution_count": 206,
      "outputs": [
        {
          "output_type": "stream",
          "text": [
            "21.84128097414347\n"
          ],
          "name": "stdout"
        }
      ]
    },
    {
      "cell_type": "markdown",
      "metadata": {
        "id": "JImdlrXqrWb7"
      },
      "source": [
        "Now, do the same with a couple more payoff types:"
      ]
    },
    {
      "cell_type": "code",
      "metadata": {
        "id": "Olx5g-5SrWb7"
      },
      "source": [
        "class Put:\n",
        "\n",
        "    def __init__(self, strike):\n",
        "        self.strike = strike\n",
        "\n",
        "    def __call__(self, spot):\n",
        "        return np.maximum(self.strike - spot, 0.)\n",
        " \n",
        "        "
      ],
      "execution_count": 207,
      "outputs": []
    },
    {
      "cell_type": "code",
      "metadata": {
        "id": "z8Wz6lBQrWb8"
      },
      "source": [
        "class DoubleDigital:\n",
        "    \n",
        "    def __init__(self, strike1, strike2):\n",
        "        self.strike1 = strike1\n",
        "        self.strike2 = strike2\n",
        "\n",
        "    def __call__(self, spot):\n",
        "        if self.strike1 < spot.any() < self.strike2:\n",
        "            return 1\n",
        "        else:\n",
        "            return 0"
      ],
      "execution_count": 221,
      "outputs": []
    },
    {
      "cell_type": "markdown",
      "metadata": {
        "id": "LAeNmkfgrWb_"
      },
      "source": [
        "and use them:"
      ]
    },
    {
      "cell_type": "code",
      "metadata": {
        "id": "UjSfh_IyrWb_",
        "outputId": "f966910c-7ea4-452e-9434-9e6886320206",
        "colab": {
          "base_uri": "https://localhost:8080/"
        }
      },
      "source": [
        "put_payoff = Put(K)\n",
        "put_option = VanillaOption(T, put_payoff)\n",
        "put_price = mc_price_european(rand_process, put_option, yield_curve, N)\n",
        "print(put_price)"
      ],
      "execution_count": 219,
      "outputs": [
        {
          "output_type": "stream",
          "text": [
            "12.668561371278727\n"
          ],
          "name": "stdout"
        }
      ]
    },
    {
      "cell_type": "code",
      "metadata": {
        "id": "SW2sJyqorWcA",
        "outputId": "420de5c9-c1fe-412b-e45d-6758703bb42b",
        "colab": {
          "base_uri": "https://localhost:8080/"
        }
      },
      "source": [
        "dbl_digit_payoff = DoubleDigital(K, K2)\n",
        "double_digital_option = VanillaOption(T, dbl_digit_payoff)\n",
        "dbl_digital_price = mc_price_european(rand_process, double_digital_option, yield_curve, N)\n",
        "print(dbl_digital_price)"
      ],
      "execution_count": 222,
      "outputs": [
        {
          "output_type": "stream",
          "text": [
            "0.0\n"
          ],
          "name": "stdout"
        }
      ]
    },
    {
      "cell_type": "code",
      "metadata": {
        "id": "LekTA-DhURyb"
      },
      "source": [
        ""
      ],
      "execution_count": null,
      "outputs": []
    }
  ]
}