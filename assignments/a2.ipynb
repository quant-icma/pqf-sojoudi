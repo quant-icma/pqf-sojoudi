{
  "nbformat": 4,
  "nbformat_minor": 0,
  "metadata": {
    "kernelspec": {
      "display_name": "Python 3",
      "name": "python3"
    },
    "language_info": {
      "name": "python"
    },
    "colab": {
      "name": "a2.ipynb",
      "provenance": []
    }
  },
  "cells": [
    {
      "cell_type": "markdown",
      "metadata": {
        "id": "Nwb66so4lo49"
      },
      "source": [
        "# Assignment 2\n",
        "\n",
        "Complete the code snippets in a colab notebook. \n",
        "Download the notebook file and submit in Blackboard."
      ]
    },
    {
      "cell_type": "code",
      "metadata": {
        "id": "-64kQL2llo5E"
      },
      "source": [
        "import numpy as np"
      ],
      "execution_count": 45,
      "outputs": []
    },
    {
      "cell_type": "code",
      "metadata": {
        "id": "RyOcPyedlo5F"
      },
      "source": [
        "class Call:\n",
        "    \n",
        "    def __init__(self, strike):\n",
        "        self.strike = strike\n",
        "\n",
        "    def __call__(self, spot):\n",
        "        return np.maximum(spot - self.strike, 0.)"
      ],
      "execution_count": 46,
      "outputs": []
    },
    {
      "cell_type": "code",
      "metadata": {
        "id": "GfKWylwdlo5F"
      },
      "source": [
        "class VanillaOption:\n",
        "    \n",
        "    def __init__(self, maturity, payoff):\n",
        "        self.maturity = maturity\n",
        "        self.payoff = payoff"
      ],
      "execution_count": 47,
      "outputs": []
    },
    {
      "cell_type": "code",
      "metadata": {
        "id": "0PUvhqGRlo5F"
      },
      "source": [
        "class BlackScholesProcess:\n",
        "\n",
        "    def __init__(self, spot, rate, volatility):    \n",
        "        self.spot = spot\n",
        "        self.rate = rate\n",
        "        self.volatility = volatility\n",
        "                 \n",
        "    def evolve(self, time, norms):\n",
        "        S_T = self.spot * np.exp((self.rate-0.5 * self.volatility ** 2) * time + self.volatility * (np.sqrt(time) * norms))\n",
        "        return S_T"
      ],
      "execution_count": 48,
      "outputs": []
    },
    {
      "cell_type": "code",
      "metadata": {
        "id": "aSHpA3sVlo5G"
      },
      "source": [
        "class FixedRateYieldCurve:\n",
        "\n",
        "    def __init__(self, rate): \n",
        "        self.rate = rate\n",
        "\n",
        "    def discount(self, maturity ):\n",
        "        return np.exp (-self.rate * maturity)"
      ],
      "execution_count": 49,
      "outputs": []
    },
    {
      "cell_type": "markdown",
      "metadata": {
        "id": "Q2Dq4txZlo5G"
      },
      "source": [
        "Here is a function that can use your classes:"
      ]
    },
    {
      "cell_type": "code",
      "metadata": {
        "id": "nsmW2w76lo5G"
      },
      "source": [
        "def mc_price_european(process, option, yield_curve, n_paths):\n",
        "    std_norms = np.random.normal(size=n_paths)\n",
        "    S_T = process.evolve(option.maturity, std_norms)\n",
        "    V_T = yield_curve.discount(option.maturity) * option.payoff(S_T)\n",
        "    V_0 = np.average(V_T)   \n",
        "\n",
        "    return V_0"
      ],
      "execution_count": 50,
      "outputs": []
    },
    {
      "cell_type": "markdown",
      "metadata": {
        "id": "EJuX00Qblo5G"
      },
      "source": [
        "Some example inputs:"
      ]
    },
    {
      "cell_type": "code",
      "metadata": {
        "id": "SBoKkO52lo5G"
      },
      "source": [
        "T = 5.\n",
        "S_0 = 100.\n",
        "vol = 0.2\n",
        "r = 0.02\n",
        "K = 100\n",
        "K2 = 120\n",
        "N = 10000"
      ],
      "execution_count": 51,
      "outputs": []
    },
    {
      "cell_type": "markdown",
      "metadata": {
        "id": "NfBGfF_dlo5G"
      },
      "source": [
        "Let's instantiate objects from your classes:"
      ]
    },
    {
      "cell_type": "code",
      "metadata": {
        "id": "GzKYy5nllo5H"
      },
      "source": [
        "yield_curve = FixedRateYieldCurve(r)\n",
        "rand_process = BlackScholesProcess(S_0, r, vol)\n",
        "call_payoff = Call(K)\n",
        "call_option = VanillaOption(T, call_payoff)"
      ],
      "execution_count": 52,
      "outputs": []
    },
    {
      "cell_type": "markdown",
      "metadata": {
        "id": "kWsS_kXJlo5H"
      },
      "source": [
        "and use them:"
      ]
    },
    {
      "cell_type": "code",
      "metadata": {
        "id": "jRjp2TGClo5H",
        "outputId": "677be85a-3485-41b2-eaaa-004056839df4",
        "colab": {
          "base_uri": "https://localhost:8080/"
        }
      },
      "source": [
        "c = mc_price_european(rand_process, call_option, yield_curve, N)\n",
        "print(c)\n"
      ],
      "execution_count": 53,
      "outputs": [
        {
          "output_type": "stream",
          "text": [
            "22.367740171962637\n"
          ],
          "name": "stdout"
        }
      ]
    },
    {
      "cell_type": "markdown",
      "metadata": {
        "id": "TuswEAy1lo5H"
      },
      "source": [
        "Now, do the same with a couple more payoff types:"
      ]
    },
    {
      "cell_type": "code",
      "metadata": {
        "id": "i0irjpvxlo5H"
      },
      "source": [
        "class Put:\n",
        "\n",
        "    def __init__(self, strike):\n",
        "        self.strike = strike\n",
        "\n",
        "    def __call__(self, spot):\n",
        "        return np.maximum(self.strike - spot, 0.)"
      ],
      "execution_count": 54,
      "outputs": []
    },
    {
      "cell_type": "code",
      "metadata": {
        "id": "fz2aVe8Mlo5H"
      },
      "source": [
        "class DoubleDigital:\n",
        "    def __init__(self, K, K2):\n",
        "        self.K = K\n",
        "        self.K2 = K2\n",
        "\n",
        "    def __call__(self, spot):\n",
        "        x = np.array(spot) \n",
        "        z = np.zeros(len(x))\n",
        "        \n",
        "        for i in range(len(x)):\n",
        "            if self.K< x[i] < self.K2 :\n",
        "                z[i] = 1\n",
        "        return np.array(z)"
      ],
      "execution_count": 55,
      "outputs": []
    },
    {
      "cell_type": "markdown",
      "metadata": {
        "id": "sbGTWQ0nlo5H"
      },
      "source": [
        "and use them:"
      ]
    },
    {
      "cell_type": "code",
      "metadata": {
        "id": "hJqJnSR9lo5H",
        "outputId": "3e77f953-e6ce-4695-ee30-afc2fae95f7c",
        "colab": {
          "base_uri": "https://localhost:8080/"
        }
      },
      "source": [
        "put_payoff = Put(K)\n",
        "put_option = VanillaOption(T, put_payoff)\n",
        "put_price = mc_price_european(rand_process, put_option, yield_curve, N)\n",
        "print(put_price)"
      ],
      "execution_count": 44,
      "outputs": [
        {
          "output_type": "stream",
          "text": [
            "12.476975661584747\n"
          ],
          "name": "stdout"
        }
      ]
    },
    {
      "cell_type": "code",
      "metadata": {
        "id": "pBWrBjwqlo5I",
        "outputId": "2c783f37-e1ac-4e78-ae14-cdd24fba304b",
        "colab": {
          "base_uri": "https://localhost:8080/"
        }
      },
      "source": [
        "dbl_digit_payoff = DoubleDigital(K, K2)\n",
        "double_digital_option = VanillaOption(T, dbl_digit_payoff)\n",
        "dbl_digital_price = mc_price_european(rand_process, double_digital_option, yield_curve, N)\n",
        "print(dbl_digital_price)"
      ],
      "execution_count": 56,
      "outputs": [
        {
          "output_type": "stream",
          "text": [
            "0.14097366973000247\n"
          ],
          "name": "stdout"
        }
      ]
    },
    {
      "cell_type": "code",
      "metadata": {
        "id": "5hB8WFA6p0IV"
      },
      "source": [
        ""
      ],
      "execution_count": null,
      "outputs": []
    }
  ]
}